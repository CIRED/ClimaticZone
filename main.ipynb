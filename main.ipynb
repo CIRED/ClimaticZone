{
 "cells": [
  {
   "cell_type": "code",
   "execution_count": 1,
   "outputs": [],
   "source": [
    "import geopandas as gpd\n",
    "import matplotlib.pyplot as plt\n",
    "import pandas as pd\n",
    "import shapely"
   ],
   "metadata": {
    "collapsed": false,
    "pycharm": {
     "name": "#%%\n"
    }
   }
  },
  {
   "cell_type": "code",
   "execution_count": 2,
   "outputs": [
    {
     "name": "stdout",
     "output_type": "stream",
     "text": [
      "1.8.4\n",
      "1.1.5\n"
     ]
    }
   ],
   "source": [
    "print(shapely.__version__)\n",
    "print(pd.__version__)"
   ],
   "metadata": {
    "collapsed": false,
    "pycharm": {
     "name": "#%%\n"
    }
   }
  },
  {
   "cell_type": "markdown",
   "source": [
    "### Reading data\n",
    "\n",
    "Main data source: https://public.opendatasoft.com/explore/dataset/georef-france-commune/"
   ],
   "metadata": {
    "collapsed": false,
    "pycharm": {
     "name": "#%% md\n"
    }
   }
  },
  {
   "cell_type": "code",
   "execution_count": 3,
   "outputs": [
    {
     "name": "stdout",
     "output_type": "stream",
     "text": [
      "        com_name_upper bv2012_code com_siren_code               arrdep_name  \\\n",
      "0          VILLESISCLE       11049      211104385               Carcassonne   \n",
      "1                AUBIN       12089      211200134  Villefranche-de-Rouergue   \n",
      "2  BALAGUIER-SUR-RANCE       12208      211200191                    Millau   \n",
      "3         LA CAVALERIE       12145      211200639                    Millau   \n",
      "4  CLAIRVAUX-D'AVEYRON       12138      211200662                     Rodez   \n",
      "\n",
      "  ept_code com_type com_uu2020_code   reg_name       bv2012_name com_code  \\\n",
      "0     None  commune           11000  Occitanie              Bram    11438   \n",
      "1     None  commune           12302  Occitanie       Decazeville    12013   \n",
      "2     None  commune           12000  Occitanie    Saint-Affrique    12019   \n",
      "3     None  commune           12000  Occitanie            Millau    12063   \n",
      "4     None  commune           12000  Occitanie  Marcillac-Vallon    12066   \n",
      "\n",
      "   ... arrdep_code          ze2020_name com_area_code reg_code  \\\n",
      "0  ...         111   Carcassonne-Limoux           FXX       76   \n",
      "1  ...         123  Figeac-Villefranche           FXX       76   \n",
      "2  ...         121               Millau           FXX       76   \n",
      "3  ...         121               Millau           FXX       76   \n",
      "4  ...         122                Rodez           FXX       76   \n",
      "\n",
      "                     epci_name com_cv_code com_aav2020_code  \\\n",
      "0  CC Piège Lauragais Malepère        1101              091   \n",
      "1    CC Decazeville Communauté        1206              330   \n",
      "2    CC Monts,Rance et Rougier        1204              000   \n",
      "3         CC Larzac et Vallées        1204              224   \n",
      "4         CC Conques-Marcillac        1221              103   \n",
      "\n",
      "  com_is_mountain_area  epci_code  \\\n",
      "0                  Non  200035707   \n",
      "1                  Oui  200067064   \n",
      "2                  Oui  200067163   \n",
      "3                  Oui  241200906   \n",
      "4                  Oui  241200641   \n",
      "\n",
      "                                            geometry  \n",
      "0  POLYGON ((2.06688 43.22547, 2.06871 43.22509, ...  \n",
      "1  POLYGON ((2.21960 44.52237, 2.21995 44.52233, ...  \n",
      "2  POLYGON ((2.55083 43.90188, 2.55094 43.90121, ...  \n",
      "3  POLYGON ((3.22826 44.03719, 3.22669 44.03694, ...  \n",
      "4  POLYGON ((2.41688 44.44080, 2.41679 44.43959, ...  \n",
      "\n",
      "[5 rows x 32 columns]\n"
     ]
    }
   ],
   "source": [
    "georef = gpd.read_file('georef-france-commune.geojson')\n",
    "print(georef.head())"
   ],
   "metadata": {
    "collapsed": false,
    "pycharm": {
     "name": "#%%\n"
    }
   }
  },
  {
   "cell_type": "code",
   "execution_count": 4,
   "outputs": [
    {
     "name": "stdout",
     "output_type": "stream",
     "text": [
      "<class 'geopandas.geodataframe.GeoDataFrame'>\n",
      "RangeIndex: 34968 entries, 0 to 34967\n",
      "Data columns (total 32 columns):\n",
      " #   Column                Non-Null Count  Dtype   \n",
      "---  ------                --------------  -----   \n",
      " 0   com_name_upper        34968 non-null  object  \n",
      " 1   bv2012_code           34955 non-null  object  \n",
      " 2   com_siren_code        34955 non-null  object  \n",
      " 3   arrdep_name           34826 non-null  object  \n",
      " 4   ept_code              130 non-null    object  \n",
      " 5   com_type              34968 non-null  object  \n",
      " 6   com_uu2020_code       34955 non-null  object  \n",
      " 7   reg_name              34968 non-null  object  \n",
      " 8   bv2012_name           34955 non-null  object  \n",
      " 9   com_code              34968 non-null  object  \n",
      " 10  com_current_code      34968 non-null  object  \n",
      " 11  com_cateaav2020_code  34955 non-null  object  \n",
      " 12  ept_name              130 non-null    object  \n",
      " 13  dep_code              34968 non-null  object  \n",
      " 14  com_name              34968 non-null  object  \n",
      " 15  dep_name              34968 non-null  object  \n",
      " 16  year                  34968 non-null  object  \n",
      " 17  com_in_ctu            34968 non-null  object  \n",
      " 18  ze2020_code           34955 non-null  object  \n",
      " 19  com_name_lower        34968 non-null  object  \n",
      " 20  com_cateaav2020_name  34955 non-null  object  \n",
      " 21  com_uu2020_status     34955 non-null  object  \n",
      " 22  arrdep_code           34955 non-null  object  \n",
      " 23  ze2020_name           34955 non-null  object  \n",
      " 24  com_area_code         34968 non-null  object  \n",
      " 25  reg_code              34968 non-null  object  \n",
      " 26  epci_name             34951 non-null  object  \n",
      " 27  com_cv_code           34955 non-null  object  \n",
      " 28  com_aav2020_code      34955 non-null  object  \n",
      " 29  com_is_mountain_area  34955 non-null  object  \n",
      " 30  epci_code             34951 non-null  object  \n",
      " 31  geometry              34968 non-null  geometry\n",
      "dtypes: geometry(1), object(31)\n",
      "memory usage: 8.5+ MB\n"
     ]
    }
   ],
   "source": [
    "georef.info()"
   ],
   "metadata": {
    "collapsed": false,
    "pycharm": {
     "name": "#%%\n"
    }
   }
  },
  {
   "cell_type": "markdown",
   "source": [
    "### Parsing inputs and loading additional data sources"
   ],
   "metadata": {
    "collapsed": false,
    "pycharm": {
     "name": "#%% md\n"
    }
   }
  },
  {
   "cell_type": "code",
   "execution_count": 5,
   "outputs": [],
   "source": [
    "# changing coordinate\n",
    "georef['geometry'] = georef['geometry'].set_crs('EPSG:4326').to_crs('EPSG:3857')\n"
   ],
   "metadata": {
    "collapsed": false,
    "pycharm": {
     "name": "#%%\n"
    }
   }
  },
  {
   "cell_type": "code",
   "execution_count": 6,
   "outputs": [],
   "source": [
    "# loading climatic zone\n",
    "climatic_zone_detailed = pd.read_csv('zone_climatique.csv', index_col=[0]).to_dict()['Zone Climatique']\n",
    "detailed_to_agg = {'H1A': 'H1', 'H1B': 'H1', 'H1C': 'H1', 'H2A': 'H2', 'H2B': 'H2', 'H2C': 'H2', 'H2D': 'H2', 'H3': 'H3'}\n",
    "climatic_zone = {k: detailed_to_agg[item] for k, item in climatic_zone_detailed.items()}"
   ],
   "metadata": {
    "collapsed": false,
    "pycharm": {
     "name": "#%%\n"
    }
   }
  },
  {
   "cell_type": "code",
   "execution_count": 7,
   "outputs": [],
   "source": [
    "# climatic zone\n",
    "georef['dep_code'] = georef['dep_code'].astype(str)\n",
    "georef['climatic_zone'] = georef['dep_code'].replace(climatic_zone)\n",
    "georef['climatic_zone_detailed'] = georef['dep_code'].replace(climatic_zone_detailed)\n",
    "\n",
    "georef = georef[georef['climatic_zone'].isin(['H1', 'H2', 'H3'])]"
   ],
   "metadata": {
    "collapsed": false,
    "pycharm": {
     "name": "#%%\n"
    }
   }
  },
  {
   "cell_type": "code",
   "execution_count": 8,
   "outputs": [],
   "source": [
    "# define climatic zone\n",
    "zones = dict()\n",
    "for i in ['H1', 'H2', 'H3']:\n",
    "    s = georef.loc[georef['climatic_zone'] == i, 'geometry']\n",
    "    zones.update({i: gpd.GeoSeries(s.unary_union)})"
   ],
   "metadata": {
    "collapsed": false,
    "pycharm": {
     "name": "#%%\n"
    }
   }
  },
  {
   "cell_type": "code",
   "execution_count": 9,
   "outputs": [],
   "source": [
    "color = {'H1': 'blue', 'H2': 'green', 'H3': 'yellow'}"
   ],
   "metadata": {
    "collapsed": false,
    "pycharm": {
     "name": "#%%\n"
    }
   }
  },
  {
   "cell_type": "code",
   "execution_count": 10,
   "outputs": [
    {
     "data": {
      "text/plain": "<Figure size 1152x648 with 1 Axes>",
      "image/png": "[encoded data removed]"
     },
     "metadata": {
      "needs_background": "light"
     },
     "output_type": "display_data"
    }
   ],
   "source": [
    "# plot climatic zone\n",
    "fig, ax = plt.subplots(figsize=(16, 9))\n",
    "georef['geometry'].plot(ax=ax)\n",
    "for k, zone in zones.items():\n",
    "    zone.plot(ax=ax, color=color[k])\n",
    "ax.set_axis_off()\n",
    "plt.show()"
   ],
   "metadata": {
    "collapsed": false,
    "pycharm": {
     "name": "#%%\n"
    }
   }
  },
  {
   "cell_type": "markdown",
   "source": [
    "### Calculate distance for each commune to the climatic zone border"
   ],
   "metadata": {
    "collapsed": false,
    "pycharm": {
     "name": "#%% md\n"
    }
   },
   "execution_count": 102
  },
  {
   "cell_type": "code",
   "execution_count": 11,
   "outputs": [],
   "source": [
    "# formatting\n",
    "zones = {k: item.iloc[0] for k, item in zones.items()}"
   ],
   "metadata": {
    "collapsed": false,
    "pycharm": {
     "name": "#%%\n"
    }
   }
  },
  {
   "cell_type": "code",
   "execution_count": 16,
   "outputs": [
    {
     "name": "stdout",
     "output_type": "stream",
     "text": [
      "H2\n",
      "113949.21610151013\n",
      "116561.34484739859\n",
      "34042.75653951529\n",
      "37111.65562969773\n",
      "34042.75653951529\n",
      "37111.65562969773\n"
     ]
    }
   ],
   "source": [
    "# simple example with one city\n",
    "\n",
    "city = georef.loc[2, :]\n",
    "print(city['climatic_zone'])\n",
    "print(city['geometry'].distance(zones['H1'].boundary))\n",
    "print(city['geometry'].centroid.distance(zones['H1'].boundary))\n",
    "print(city['geometry'].distance(zones['H2'].boundary))\n",
    "print(city['geometry'].centroid.distance(zones['H2'].boundary))\n",
    "print(city['geometry'].distance(zones['H3'].boundary))\n",
    "print(city['geometry'].centroid.distance(zones['H3'].boundary))"
   ],
   "metadata": {
    "collapsed": false,
    "pycharm": {
     "name": "#%%\n"
    }
   }
  },
  {
   "cell_type": "code",
   "execution_count": 17,
   "outputs": [
    {
     "data": {
      "text/plain": "0        POINT (232595.869 5346738.279)\n1        POINT (251173.533 5548150.334)\n2        POINT (286817.834 5449357.777)\n3        POINT (354402.415 5467242.501)\n4        POINT (268115.458 5528585.814)\n                      ...              \n34963    POINT (584602.538 5945757.432)\n34964    POINT (181109.095 5644201.233)\n34965    POINT (205150.397 5669562.336)\n34966    POINT (188765.684 5634805.389)\n34967    POINT (527478.801 6151505.167)\nLength: 34826, dtype: geometry"
     },
     "execution_count": 17,
     "metadata": {},
     "output_type": "execute_result"
    }
   ],
   "source": [],
   "metadata": {
    "collapsed": false,
    "pycharm": {
     "name": "#%%\n"
    }
   }
  },
  {
   "cell_type": "code",
   "execution_count": 18,
   "outputs": [
    {
     "name": "stderr",
     "output_type": "stream",
     "text": [
      "/Users/lucas/opt/anaconda3/envs/geodata2/lib/python3.6/site-packages/ipykernel_launcher.py:3: UserWarning: Geometry is in a geographic CRS. Results from 'distance' are likely incorrect. Use 'GeoSeries.to_crs()' to re-project geometries to a projected CRS before this operation.\n",
      "\n",
      "  This is separate from the ipykernel package so we can avoid doing imports until\n"
     ]
    },
    {
     "data": {
      "text/plain": "0     214899.158501\n1      14154.692122\n2     116561.344847\n3     101039.328746\n4      36373.424693\n5      74324.967066\n6     108967.329774\n7      26315.673330\n8     100192.612548\n9      62961.301672\n10     95767.933874\ndtype: float64"
     },
     "execution_count": 18,
     "metadata": {},
     "output_type": "execute_result"
    }
   ],
   "source": [
    "# example with multiple cities (10 cities)\n",
    "\n",
    "georef.loc[:10, :].centroid.distance(zones['H1'].boundary)"
   ],
   "metadata": {
    "collapsed": false,
    "pycharm": {
     "name": "#%%\n"
    }
   }
  },
  {
   "cell_type": "code",
   "execution_count": 19,
   "outputs": [
    {
     "name": "stdout",
     "output_type": "stream",
     "text": [
      "H1\n"
     ]
    },
    {
     "name": "stderr",
     "output_type": "stream",
     "text": [
      "/Users/lucas/opt/anaconda3/envs/geodata2/lib/python3.6/site-packages/ipykernel_launcher.py:5: UserWarning: Geometry is in a geographic CRS. Results from 'distance' are likely incorrect. Use 'GeoSeries.to_crs()' to re-project geometries to a projected CRS before this operation.\n",
      "\n",
      "  \"\"\"\n"
     ]
    },
    {
     "name": "stdout",
     "output_type": "stream",
     "text": [
      "H2\n"
     ]
    },
    {
     "name": "stderr",
     "output_type": "stream",
     "text": [
      "/Users/lucas/opt/anaconda3/envs/geodata2/lib/python3.6/site-packages/ipykernel_launcher.py:5: UserWarning: Geometry is in a geographic CRS. Results from 'distance' are likely incorrect. Use 'GeoSeries.to_crs()' to re-project geometries to a projected CRS before this operation.\n",
      "\n",
      "  \"\"\"\n"
     ]
    },
    {
     "name": "stdout",
     "output_type": "stream",
     "text": [
      "H3\n"
     ]
    },
    {
     "name": "stderr",
     "output_type": "stream",
     "text": [
      "/Users/lucas/opt/anaconda3/envs/geodata2/lib/python3.6/site-packages/ipykernel_launcher.py:5: UserWarning: Geometry is in a geographic CRS. Results from 'distance' are likely incorrect. Use 'GeoSeries.to_crs()' to re-project geometries to a projected CRS before this operation.\n",
      "\n",
      "  \"\"\"\n"
     ]
    }
   ],
   "source": [
    "# these following lines take a lot of times\n",
    "\n",
    "for k in zones.keys():\n",
    "    print(k)\n",
    "    georef['distance {}'.format(k)] = georef.centroid.distance(zones[k].boundary)"
   ],
   "metadata": {
    "collapsed": false,
    "pycharm": {
     "name": "#%%\n"
    }
   }
  },
  {
   "cell_type": "code",
   "execution_count": 23,
   "outputs": [],
   "source": [
    "georef.to_csv('output.csv')"
   ],
   "metadata": {
    "collapsed": false,
    "pycharm": {
     "name": "#%%\n"
    }
   }
  },
  {
   "cell_type": "code",
   "execution_count": 25,
   "outputs": [],
   "source": [
    "georef.drop('geometry', axis=1).to_csv('distance.csv')"
   ],
   "metadata": {
    "collapsed": false,
    "pycharm": {
     "name": "#%%\n"
    }
   }
  }
 ],
 "metadata": {
  "kernelspec": {
   "display_name": "Python 3",
   "language": "python",
   "name": "python3"
  },
  "language_info": {
   "codemirror_mode": {
    "name": "ipython",
    "version": 2
   },
   "file_extension": ".py",
   "mimetype": "text/x-python",
   "name": "python",
   "nbconvert_exporter": "python",
   "pygments_lexer": "ipython2",
   "version": "2.7.6"
  }
 },
 "nbformat": 4,
 "nbformat_minor": 0
}