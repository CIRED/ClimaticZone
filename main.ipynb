{
 "cells": [
  {
   "cell_type": "code",
   "execution_count": 1,
   "outputs": [],
   "source": [
    "import geopandas as gpd\n",
    "import matplotlib.pyplot as plt\n",
    "import pandas as pd"
   ],
   "metadata": {
    "collapsed": false,
    "pycharm": {
     "name": "#%%\n"
    }
   }
  },
  {
   "cell_type": "markdown",
   "source": [
    "Data source: https://public.opendatasoft.com/explore/dataset/georef-france-commune/"
   ],
   "metadata": {
    "collapsed": false,
    "pycharm": {
     "name": "#%% md\n"
    }
   }
  },
  {
   "cell_type": "code",
   "execution_count": 2,
   "outputs": [
    {
     "name": "stdout",
     "output_type": "stream",
     "text": [
      "        com_name_upper bv2012_code com_siren_code               arrdep_name  \\\n",
      "0          VILLESISCLE       11049      211104385               Carcassonne   \n",
      "1                AUBIN       12089      211200134  Villefranche-de-Rouergue   \n",
      "2  BALAGUIER-SUR-RANCE       12208      211200191                    Millau   \n",
      "3         LA CAVALERIE       12145      211200639                    Millau   \n",
      "4  CLAIRVAUX-D'AVEYRON       12138      211200662                     Rodez   \n",
      "\n",
      "  ept_code com_type com_uu2020_code   reg_name       bv2012_name com_code  \\\n",
      "0     None  commune           11000  Occitanie              Bram    11438   \n",
      "1     None  commune           12302  Occitanie       Decazeville    12013   \n",
      "2     None  commune           12000  Occitanie    Saint-Affrique    12019   \n",
      "3     None  commune           12000  Occitanie            Millau    12063   \n",
      "4     None  commune           12000  Occitanie  Marcillac-Vallon    12066   \n",
      "\n",
      "   ... arrdep_code          ze2020_name com_area_code reg_code  \\\n",
      "0  ...         111   Carcassonne-Limoux           FXX       76   \n",
      "1  ...         123  Figeac-Villefranche           FXX       76   \n",
      "2  ...         121               Millau           FXX       76   \n",
      "3  ...         121               Millau           FXX       76   \n",
      "4  ...         122                Rodez           FXX       76   \n",
      "\n",
      "                     epci_name com_cv_code com_aav2020_code  \\\n",
      "0  CC Piège Lauragais Malepère        1101              091   \n",
      "1    CC Decazeville Communauté        1206              330   \n",
      "2    CC Monts,Rance et Rougier        1204              000   \n",
      "3         CC Larzac et Vallées        1204              224   \n",
      "4         CC Conques-Marcillac        1221              103   \n",
      "\n",
      "  com_is_mountain_area  epci_code  \\\n",
      "0                  Non  200035707   \n",
      "1                  Oui  200067064   \n",
      "2                  Oui  200067163   \n",
      "3                  Oui  241200906   \n",
      "4                  Oui  241200641   \n",
      "\n",
      "                                            geometry  \n",
      "0  POLYGON ((2.06688 43.22547, 2.06871 43.22509, ...  \n",
      "1  POLYGON ((2.21960 44.52237, 2.21995 44.52233, ...  \n",
      "2  POLYGON ((2.55083 43.90188, 2.55094 43.90121, ...  \n",
      "3  POLYGON ((3.22826 44.03719, 3.22669 44.03694, ...  \n",
      "4  POLYGON ((2.41688 44.44080, 2.41679 44.43959, ...  \n",
      "\n",
      "[5 rows x 32 columns]\n"
     ]
    }
   ],
   "source": [
    "georef = gpd.read_file('georef-france-commune.geojson')\n",
    "print(georef.head())"
   ],
   "metadata": {
    "collapsed": false,
    "pycharm": {
     "name": "#%%\n"
    }
   }
  },
  {
   "cell_type": "code",
   "execution_count": 3,
   "outputs": [
    {
     "name": "stdout",
     "output_type": "stream",
     "text": [
      "<class 'geopandas.geodataframe.GeoDataFrame'>\n",
      "RangeIndex: 34968 entries, 0 to 34967\n",
      "Data columns (total 32 columns):\n",
      " #   Column                Non-Null Count  Dtype   \n",
      "---  ------                --------------  -----   \n",
      " 0   com_name_upper        34968 non-null  object  \n",
      " 1   bv2012_code           34955 non-null  object  \n",
      " 2   com_siren_code        34955 non-null  object  \n",
      " 3   arrdep_name           34826 non-null  object  \n",
      " 4   ept_code              130 non-null    object  \n",
      " 5   com_type              34968 non-null  object  \n",
      " 6   com_uu2020_code       34955 non-null  object  \n",
      " 7   reg_name              34968 non-null  object  \n",
      " 8   bv2012_name           34955 non-null  object  \n",
      " 9   com_code              34968 non-null  object  \n",
      " 10  com_current_code      34968 non-null  object  \n",
      " 11  com_cateaav2020_code  34955 non-null  object  \n",
      " 12  ept_name              130 non-null    object  \n",
      " 13  dep_code              34968 non-null  object  \n",
      " 14  com_name              34968 non-null  object  \n",
      " 15  dep_name              34968 non-null  object  \n",
      " 16  year                  34968 non-null  object  \n",
      " 17  com_in_ctu            34968 non-null  object  \n",
      " 18  ze2020_code           34955 non-null  object  \n",
      " 19  com_name_lower        34968 non-null  object  \n",
      " 20  com_cateaav2020_name  34955 non-null  object  \n",
      " 21  com_uu2020_status     34955 non-null  object  \n",
      " 22  arrdep_code           34955 non-null  object  \n",
      " 23  ze2020_name           34955 non-null  object  \n",
      " 24  com_area_code         34968 non-null  object  \n",
      " 25  reg_code              34968 non-null  object  \n",
      " 26  epci_name             34951 non-null  object  \n",
      " 27  com_cv_code           34955 non-null  object  \n",
      " 28  com_aav2020_code      34955 non-null  object  \n",
      " 29  com_is_mountain_area  34955 non-null  object  \n",
      " 30  epci_code             34951 non-null  object  \n",
      " 31  geometry              34968 non-null  geometry\n",
      "dtypes: geometry(1), object(31)\n",
      "memory usage: 8.5+ MB\n"
     ]
    }
   ],
   "source": [
    "georef.info()"
   ],
   "metadata": {
    "collapsed": false,
    "pycharm": {
     "name": "#%%\n"
    }
   }
  },
  {
   "cell_type": "code",
   "execution_count": 12,
   "outputs": [],
   "source": [
    "climatic_zone_detailed = pd.read_csv('zone_climatique.csv', index_col=[0]).to_dict()['Zone Climatique']\n",
    "detailed_to_agg = {'H1A': 'H1', 'H1B': 'H1', 'H1C': 'H1', 'H2A': 'H2', 'H2B': 'H2', 'H2C': 'H2', 'H2D': 'H2', 'H3': 'H3'}\n",
    "climatic_zone = {k: detailed_to_agg[item] for k, item in climatic_zone_detailed.items()}"
   ],
   "metadata": {
    "collapsed": false,
    "pycharm": {
     "name": "#%%\n"
    }
   }
  },
  {
   "cell_type": "code",
   "execution_count": 15,
   "outputs": [],
   "source": [
    "# climatic zone\n",
    "georef['dep_code'] = georef['dep_code'].astype(str)\n",
    "georef['climatic_zone'] = georef['dep_code'].replace(climatic_zone)\n",
    "georef['climatic_zone_detailed'] = georef['dep_code'].replace(climatic_zone_detailed)\n",
    "\n",
    "georef = georef[georef['climatic_zone'].isin(['H1', 'H2', 'H3'])]"
   ],
   "metadata": {
    "collapsed": false,
    "pycharm": {
     "name": "#%%\n"
    }
   }
  },
  {
   "cell_type": "code",
   "execution_count": 16,
   "outputs": [],
   "source": [
    "# define climatic zone\n",
    "unions = dict()\n",
    "for i in ['H1', 'H2', 'H3']:\n",
    "    s = georef.loc[georef['climatic_zone'] == i, 'geometry']\n",
    "    unions.update({i: gpd.GeoSeries(s.unary_union)})"
   ],
   "metadata": {
    "collapsed": false,
    "pycharm": {
     "name": "#%%\n"
    }
   }
  },
  {
   "cell_type": "code",
   "execution_count": 17,
   "outputs": [],
   "source": [
    "color = {'H1': 'blue', 'H2': 'green', 'H3': 'yellow'}"
   ],
   "metadata": {
    "collapsed": false,
    "pycharm": {
     "name": "#%%\n"
    }
   }
  },
  {
   "cell_type": "code",
   "execution_count": 18,
   "outputs": [
    {
     "data": {
      "text/plain": "<Figure size 1152x648 with 1 Axes>",
      "image/png": "[encoded data removed]"
     },
     "metadata": {
      "needs_background": "light"
     },
     "output_type": "display_data"
    }
   ],
   "source": [
    "# plot climatic zone\n",
    "fig, ax = plt.subplots(figsize=(16, 9))\n",
    "georef.plot(ax=ax)\n",
    "for k, union in unions.items():\n",
    "    union.plot(ax=ax, color=color[k])\n",
    "ax.set_axis_off()\n",
    "ax.set_xlim(xmin=-5, xmax=10)\n",
    "ax.set_ylim(ymin=40, ymax=55)\n",
    "\n",
    "plt.show()"
   ],
   "metadata": {
    "collapsed": false,
    "pycharm": {
     "name": "#%%\n"
    }
   }
  },
  {
   "cell_type": "code",
   "execution_count": null,
   "outputs": [],
   "source": [
    "# calculate distance for each commune to the climatic zone border"
   ],
   "metadata": {
    "collapsed": false,
    "pycharm": {
     "name": "#%%\n"
    }
   }
  }
 ],
 "metadata": {
  "kernelspec": {
   "display_name": "Python 3",
   "language": "python",
   "name": "python3"
  },
  "language_info": {
   "codemirror_mode": {
    "name": "ipython",
    "version": 2
   },
   "file_extension": ".py",
   "mimetype": "text/x-python",
   "name": "python",
   "nbconvert_exporter": "python",
   "pygments_lexer": "ipython2",
   "version": "2.7.6"
  }
 },
 "nbformat": 4,
 "nbformat_minor": 0
}